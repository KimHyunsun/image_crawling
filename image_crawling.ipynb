{
 "cells": [
  {
   "attachments": {},
   "cell_type": "markdown",
   "metadata": {},
   "source": [
    "#### This code is for crawling an image from a site when a word is given,  made by hyunsunkim in Tobigs team3\n",
    "<br/>\n",
    "I am getting image from unsplash.com which is 'free to use' site, both for commercial and noncommercial purposes.\n",
    "\n",
    "Other free to use sites list is listed below\n",
    "- https://www.reshot.com/\n",
    "- https://unsplash.com/\n",
    "- https://www.stockvault.net/"
   ]
  },
  {
   "cell_type": "code",
   "execution_count": 1,
   "metadata": {},
   "outputs": [],
   "source": [
    "from selenium import webdriver\n",
    "import time\n",
    "from bs4 import BeautifulSoup\n",
    "import os\n",
    "import urllib.request"
   ]
  },
  {
   "cell_type": "code",
   "execution_count": 2,
   "metadata": {},
   "outputs": [],
   "source": [
    "# we have to get keys from the previous code(keyword extractor)\n",
    "#here i am just going to enter any word\n",
    "key='balloon'"
   ]
  },
  {
   "cell_type": "code",
   "execution_count": 3,
   "metadata": {},
   "outputs": [],
   "source": [
    "#from chrome driver get the keyword included image site\n",
    "driver=webdriver.Chrome('driver/chromedriver')\n",
    "url = 'https://unsplash.com/s/photos/'+key\n",
    "driver.get(url)"
   ]
  },
  {
   "cell_type": "code",
   "execution_count": 4,
   "metadata": {
    "code_folding": []
   },
   "outputs": [],
   "source": [
    "pageString = driver.page_source\n",
    "bs_contents = BeautifulSoup(pageString, \"lxml\")\n",
    "imgcontext=bs_contents.find_all(name=\"div\",attrs={\"class\":\"nDTlD\"})[0:10] #10 images - but some does not give links\n",
    "imglink=[]\n",
    "for i in range(0,len(imgcontext)):\n",
    "    imglist=imgcontext[i].select('img')\n",
    "    if len(imglist)==0:\n",
    "        pass\n",
    "    else:\n",
    "        words=str(imglist).split()\n",
    "        matchers = ['src']\n",
    "        matching = [s for s in words if any(xs in s for xs in matchers)]\n",
    "        imglink.append(matching[0][5:len(matching[0])-1])\n",
    "        #reference: https://stackoverflow.com/questions/4843158/check-if-a-python-list-item-contains-a-string-inside-another-string\n",
    "\n",
    "#get 5 image links        \n",
    "imglinks_5=imglink[:5]"
   ]
  },
  {
   "cell_type": "code",
   "execution_count": 5,
   "metadata": {},
   "outputs": [],
   "source": [
    "folder='image_download'\n",
    "\n",
    "if not os.path.exists(folder):\n",
    "    os.makedirs(folder)\n",
    "    \n",
    "for i in range(0,len(imglinks_5)):\n",
    "    urllib.request.urlretrieve(imglinks_5[i], folder+'/'+key+'_'+str(i)+'.png')"
   ]
  },
  {
   "cell_type": "code",
   "execution_count": null,
   "metadata": {},
   "outputs": [],
   "source": []
  },
  {
   "cell_type": "markdown",
   "metadata": {},
   "source": [
    "full code"
   ]
  },
  {
   "cell_type": "code",
   "execution_count": null,
   "metadata": {},
   "outputs": [],
   "source": [
    "'''\n",
    "#insert key\n",
    "key='balloon'\n",
    "\n",
    "#from chrome driver get the keyword included image site\n",
    "driver=webdriver.Chrome('driver/chromedriver')\n",
    "url = 'https://unsplash.com/s/photos/'+key\n",
    "driver.get(url)\n",
    "time.sleep(3)\n",
    "\n",
    "pageString = driver.page_source\n",
    "bs_contents = BeautifulSoup(pageString, \"lxml\")\n",
    "imgcontext=bs_contents.find_all(name=\"div\",attrs={\"class\":\"nDTlD\"})[0:10] #10 images - but some does not give links\n",
    "imglink=[]\n",
    "for i in range(0,len(imgcontext)):\n",
    "    imglist=imgcontext[i].select('img')\n",
    "    if len(imglist)==0: #contents that do not give links - pass this\n",
    "        pass\n",
    "    else:\n",
    "        words=str(imglist).split()\n",
    "        matchers = ['src']\n",
    "        matching = [s for s in words if any(xs in s for xs in matchers)] #find context that include 'src'\n",
    "        imglink.append(matching[0][5:len(matching[0])-1])\n",
    "        #reference: https://stackoverflow.com/questions/4843158/check-if-a-python-list-item-contains-a-string-inside-another-string\n",
    "\n",
    "#get 5 image links        \n",
    "imglinks_5=imglink[:5]\n",
    "\n",
    "#get folder\n",
    "folder='image_download'\n",
    "if not os.path.exists(folder):\n",
    "    os.makedirs(folder)\n",
    "\n",
    "#save images\n",
    "for i in range(0,len(imglinks_5)):\n",
    "    urllib.request.urlretrieve(imglinks_5[i], folder+'/'+key+'_'+str(i)+'.png')\n",
    "'''"
   ]
  }
 ],
 "metadata": {
  "hide_input": false,
  "kernelspec": {
   "display_name": "Python 3",
   "language": "python",
   "name": "python3"
  },
  "language_info": {
   "codemirror_mode": {
    "name": "ipython",
    "version": 3
   },
   "file_extension": ".py",
   "mimetype": "text/x-python",
   "name": "python",
   "nbconvert_exporter": "python",
   "pygments_lexer": "ipython3",
   "version": "3.7.1"
  }
 },
 "nbformat": 4,
 "nbformat_minor": 4
}
